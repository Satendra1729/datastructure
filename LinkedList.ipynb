{
 "cells": [
  {
   "cell_type": "code",
   "execution_count": 21,
   "id": "e11c6169",
   "metadata": {},
   "outputs": [],
   "source": [
    "class Node : \n",
    "    def __init__(self,data):\n",
    "        self.data = data; \n",
    "        self.next = None; \n",
    "class LinkedList : \n",
    "    def __init__(self): \n",
    "        self.head = None; \n",
    "        \n",
    "    def add(self,data): \n",
    "        new_node = Node(data); \n",
    "        if not self.head : \n",
    "            self.head = new_node; \n",
    "        else : \n",
    "            new_node.next = self.head; \n",
    "            self.head = new_node; \n",
    "            \n",
    "    def traverse(self): \n",
    "        \n",
    "        print(\"-------------------\")\n",
    "        current_node = self.head; \n",
    "        while current_node: \n",
    "            print(current_node.data); \n",
    "            current_node = current_node.next; \n",
    "        \n",
    "        print(\"-------------------\")\n",
    "        \n",
    "    # removing first occurence of the data from head\n",
    "    def remove(self,data): \n",
    "        if data == self.head.data : \n",
    "            self.head = self.head.next; \n",
    "            return ; \n",
    "        target_node = self.head; \n",
    "        prev_node = None; \n",
    "        while target_node and target_node.data != data: \n",
    "            prev_node = target_node; \n",
    "            target_node = target_node.next; \n",
    "        if not target_node : \n",
    "            raise Exception(\"Invlid data\"); \n",
    "        if target_node.data == data: \n",
    "            prev_node.next = target_node.next;"
   ]
  },
  {
   "cell_type": "code",
   "execution_count": 23,
   "id": "73bc93e3",
   "metadata": {},
   "outputs": [
    {
     "name": "stdout",
     "output_type": "stream",
     "text": [
      "-------------------\n",
      "you\n",
      "50\n",
      "12\n",
      "me\n",
      "10\n",
      "-------------------\n",
      "-------------------\n",
      "you\n",
      "50\n",
      "me\n",
      "10\n",
      "-------------------\n"
     ]
    }
   ],
   "source": [
    "l = LinkedList()\n",
    "l.add(10); \n",
    "l.add(\"me\"); \n",
    "l.add(12)\n",
    "l.add(50); \n",
    "l.add(\"you\")\n",
    "l.traverse()\n",
    "l.remove(12)\n",
    "l.traverse()"
   ]
  },
  {
   "cell_type": "code",
   "execution_count": null,
   "id": "e1b982fa",
   "metadata": {},
   "outputs": [],
   "source": []
  }
 ],
 "metadata": {
  "kernelspec": {
   "display_name": "Python 3",
   "language": "python",
   "name": "python3"
  },
  "language_info": {
   "codemirror_mode": {
    "name": "ipython",
    "version": 3
   },
   "file_extension": ".py",
   "mimetype": "text/x-python",
   "name": "python",
   "nbconvert_exporter": "python",
   "pygments_lexer": "ipython3",
   "version": "3.8.8"
  }
 },
 "nbformat": 4,
 "nbformat_minor": 5
}
